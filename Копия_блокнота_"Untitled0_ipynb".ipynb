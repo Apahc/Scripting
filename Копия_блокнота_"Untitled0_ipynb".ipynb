{
  "nbformat": 4,
  "nbformat_minor": 0,
  "metadata": {
    "colab": {
      "provenance": [],
      "authorship_tag": "ABX9TyO6isWvzoy69LDXxLM65jVz",
      "include_colab_link": true
    },
    "kernelspec": {
      "name": "python3",
      "display_name": "Python 3"
    },
    "language_info": {
      "name": "python"
    }
  },
  "cells": [
    {
      "cell_type": "markdown",
      "metadata": {
        "id": "view-in-github",
        "colab_type": "text"
      },
      "source": [
        "<a href=\"https://colab.research.google.com/github/Apahc/Scripting/blob/main/%D0%9A%D0%BE%D0%BF%D0%B8%D1%8F_%D0%B1%D0%BB%D0%BE%D0%BA%D0%BD%D0%BE%D1%82%D0%B0_%22Untitled0_ipynb%22.ipynb\" target=\"_parent\"><img src=\"https://colab.research.google.com/assets/colab-badge.svg\" alt=\"Open In Colab\"/></a>"
      ]
    },
    {
      "cell_type": "code",
      "execution_count": null,
      "metadata": {
        "colab": {
          "base_uri": "https://localhost:8080/"
        },
        "id": "-XU4GXvvY__4",
        "outputId": "1be4f5f2-5353-4288-bfc4-8620b39c9663"
      },
      "outputs": [
        {
          "name": "stdout",
          "output_type": "stream",
          "text": [
            "Choose: 1-a+b, 2 - a/b, 3- length of text or print stop1\n",
            "Введите первое числа1\n",
            "Введите второе числа2\n",
            "A+B 3\n",
            "Choose: 1-a+b, 2 - a/b, 3- length of text or print stop2\n",
            "Введите первое числа2\n",
            "Введите второе числа1\n",
            "A/ B 2.0\n",
            "Choose: 1-a+b, 2 - a/b, 3- length of text or print stop3\n",
            "print textqqq\n",
            "3\n",
            "Choose: 1-a+b, 2 - a/b, 3- length of text or print stopstop\n"
          ]
        }
      ],
      "source": [
        "mes = input(\"Choose: 1-a+b, 2 - a/b, 3- length of text or print stop\")\n",
        "while (mes!='stop'):\n",
        "  if mes=='1':\n",
        "    a= int(input(\"Введите первое числа\"))\n",
        "    b= int(input(\"Введите второе числа\"))\n",
        "    print (\"A+B\", a+b)\n",
        "  elif mes=='2':\n",
        "    a= int(input(\"Введите первое числа\"))\n",
        "    b= int(input(\"Введите второе числа\"))\n",
        "    if (b!=0):\n",
        "      print(\"A/ B\", a/b)\n",
        "    else:\n",
        "      print(\"error\")\n",
        "  elif mes=='3':\n",
        "    text=input('print text')\n",
        "    print(len(text))\n",
        "  mes=input(\"Choose: 1-a+b, 2 - a/b, 3- length of text or print stop\")\n"
      ]
    }
  ]
}